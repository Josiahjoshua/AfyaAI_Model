{
 "cells": [
  {
   "cell_type": "code",
   "execution_count": 13,
   "metadata": {},
   "outputs": [],
   "source": [
    "# Breast Cancer Classification using VGG19\n",
    "\n",
    "## 1. Import Libraries\n",
    "\n",
    "import numpy as np\n",
    "import os\n",
    "from tensorflow.keras.applications import VGG19\n",
    "from tensorflow.keras.models import Model\n",
    "from tensorflow.keras.layers import Dense, GlobalAveragePooling2D\n",
    "from tensorflow.keras.preprocessing.image import ImageDataGenerator\n",
    "from sklearn.utils import resample\n",
    "from PIL import Image\n",
    "import tensorflow as tf\n",
    "from tensorflow.keras.callbacks import ModelCheckpoint, EarlyStopping, ReduceLROnPlateau\n",
    "\n"
   ]
  },
  {
   "cell_type": "code",
   "execution_count": 14,
   "metadata": {},
   "outputs": [],
   "source": [
    "from tensorflow.keras import mixed_precision\n",
    "mixed_precision.set_global_policy('mixed_float16')"
   ]
  },
  {
   "cell_type": "markdown",
   "metadata": {},
   "source": [
    "Load and Prepare Data\n",
    "    Define Helper Functions"
   ]
  },
  {
   "cell_type": "code",
   "execution_count": 15,
   "metadata": {},
   "outputs": [],
   "source": [
    "def load_image(image_path):\n",
    "    image = Image.open(image_path)\n",
    "    image = image.resize((224, 224))  # Resize to match VGG19 input\n",
    "    return np.array(image) / 255.0  # Normalize pixel values to [0, 1]\n",
    "\n",
    "def create_labels_and_images(non_cancer_imgs, cancer_imgs, image_directory):\n",
    "    images = []\n",
    "    labels = []\n",
    "\n",
    "    for img in non_cancer_imgs:\n",
    "        image_path = os.path.join(image_directory, img)\n",
    "        image = load_image(image_path)\n",
    "        images.append(image)\n",
    "        labels.append(0)  # Label for non-cancer\n",
    "\n",
    "    for img in cancer_imgs:\n",
    "        image_path = os.path.join(image_directory, img)\n",
    "        image = load_image(image_path)\n",
    "        images.append(image)\n",
    "        labels.append(1)  # Label for cancer\n",
    "\n",
    "    return np.array(images), np.array(labels)\n",
    "\n",
    "def undersample_majority_class(X, y, majority_class=0, minority_class=1):\n",
    "    X_majority = X[y == majority_class]\n",
    "    y_majority = y[y == majority_class]\n",
    "    X_minority = X[y == minority_class]\n",
    "    y_minority = y[y == minority_class]\n",
    "\n",
    "    minority_size = len(X_minority)\n",
    "    X_majority_undersampled, y_majority_undersampled = resample(\n",
    "        X_majority, y_majority,\n",
    "        replace=False,\n",
    "        n_samples=minority_size,\n",
    "        random_state=42\n",
    "    )\n",
    "\n",
    "    X_balanced = np.concatenate([X_majority_undersampled, X_minority])\n",
    "    y_balanced = np.concatenate([y_majority_undersampled, y_minority])\n",
    "\n",
    "    return X_balanced, y_balanced\n",
    "\n",
    "def categorize_images(image_filenames):\n",
    "    non_cancer_imgs = []\n",
    "    cancer_imgs = []\n",
    "\n",
    "    for img in image_filenames:\n",
    "        if img[-5] == '0':\n",
    "            non_cancer_imgs.append(img)\n",
    "        elif img[-5] == '1':\n",
    "            cancer_imgs.append(img)\n",
    "\n",
    "    return non_cancer_imgs, cancer_imgs\n"
   ]
  },
  {
   "cell_type": "markdown",
   "metadata": {},
   "source": [
    "Load Data"
   ]
  },
  {
   "cell_type": "code",
   "execution_count": 16,
   "metadata": {},
   "outputs": [
    {
     "ename": "MemoryError",
     "evalue": "Unable to allocate 1.15 MiB for an array with shape (224, 224, 3) and data type float64",
     "output_type": "error",
     "traceback": [
      "\u001b[1;31m---------------------------------------------------------------------------\u001b[0m",
      "\u001b[1;31mMemoryError\u001b[0m                               Traceback (most recent call last)",
      "Cell \u001b[1;32mIn[16], line 17\u001b[0m\n\u001b[0;32m     14\u001b[0m image_directory \u001b[38;5;241m=\u001b[39m \u001b[38;5;124m'\u001b[39m\u001b[38;5;124mC:/Users/DELL/josiah_project/breast-histopathology-images/**/*.png\u001b[39m\u001b[38;5;124m'\u001b[39m\n\u001b[0;32m     16\u001b[0m \u001b[38;5;66;03m# Create labels and images\u001b[39;00m\n\u001b[1;32m---> 17\u001b[0m X, y \u001b[38;5;241m=\u001b[39m \u001b[43mcreate_labels_and_images\u001b[49m\u001b[43m(\u001b[49m\u001b[43mnon_cancer_imgs\u001b[49m\u001b[43m,\u001b[49m\u001b[43m \u001b[49m\u001b[43mcancer_imgs\u001b[49m\u001b[43m,\u001b[49m\u001b[43m \u001b[49m\u001b[43mimage_directory\u001b[49m\u001b[43m)\u001b[49m\n\u001b[0;32m     18\u001b[0m X, y \u001b[38;5;241m=\u001b[39m undersample_majority_class(X, y)\n",
      "Cell \u001b[1;32mIn[15], line 12\u001b[0m, in \u001b[0;36mcreate_labels_and_images\u001b[1;34m(non_cancer_imgs, cancer_imgs, image_directory)\u001b[0m\n\u001b[0;32m     10\u001b[0m \u001b[38;5;28;01mfor\u001b[39;00m img \u001b[38;5;129;01min\u001b[39;00m non_cancer_imgs:\n\u001b[0;32m     11\u001b[0m     image_path \u001b[38;5;241m=\u001b[39m os\u001b[38;5;241m.\u001b[39mpath\u001b[38;5;241m.\u001b[39mjoin(image_directory, img)\n\u001b[1;32m---> 12\u001b[0m     image \u001b[38;5;241m=\u001b[39m \u001b[43mload_image\u001b[49m\u001b[43m(\u001b[49m\u001b[43mimage_path\u001b[49m\u001b[43m)\u001b[49m\n\u001b[0;32m     13\u001b[0m     images\u001b[38;5;241m.\u001b[39mappend(image)\n\u001b[0;32m     14\u001b[0m     labels\u001b[38;5;241m.\u001b[39mappend(\u001b[38;5;241m0\u001b[39m)  \u001b[38;5;66;03m# Label for non-cancer\u001b[39;00m\n",
      "Cell \u001b[1;32mIn[15], line 4\u001b[0m, in \u001b[0;36mload_image\u001b[1;34m(image_path)\u001b[0m\n\u001b[0;32m      2\u001b[0m image \u001b[38;5;241m=\u001b[39m Image\u001b[38;5;241m.\u001b[39mopen(image_path)\n\u001b[0;32m      3\u001b[0m image \u001b[38;5;241m=\u001b[39m image\u001b[38;5;241m.\u001b[39mresize((\u001b[38;5;241m224\u001b[39m, \u001b[38;5;241m224\u001b[39m))  \u001b[38;5;66;03m# Resize to match VGG19 input\u001b[39;00m\n\u001b[1;32m----> 4\u001b[0m \u001b[38;5;28;01mreturn\u001b[39;00m \u001b[43mnp\u001b[49m\u001b[38;5;241;43m.\u001b[39;49m\u001b[43marray\u001b[49m\u001b[43m(\u001b[49m\u001b[43mimage\u001b[49m\u001b[43m)\u001b[49m\u001b[43m \u001b[49m\u001b[38;5;241;43m/\u001b[39;49m\u001b[43m \u001b[49m\u001b[38;5;241;43m255.0\u001b[39;49m\n",
      "\u001b[1;31mMemoryError\u001b[0m: Unable to allocate 1.15 MiB for an array with shape (224, 224, 3) and data type float64"
     ]
    }
   ],
   "source": [
    "import glob\n",
    "\n",
    "# Define the directory containing your images\n",
    "image_directory = 'C:/Users/DELL/josiah_project/breast-histopathology-images/**/*.png'\n",
    "\n",
    "# Use glob to get all image filenames in the directory\n",
    "image_filenames = glob.glob(image_directory, recursive=True)\n",
    "\n",
    "\n",
    "# Categorize images based on filenames\n",
    "non_cancer_imgs, cancer_imgs = categorize_images(image_filenames)\n",
    "\n",
    "# Define your image directory\n",
    "image_directory = 'C:/Users/DELL/josiah_project/breast-histopathology-images/**/*.png'\n",
    "\n",
    "# Create labels and images\n",
    "X, y = create_labels_and_images(non_cancer_imgs, cancer_imgs, image_directory)\n",
    "X, y = undersample_majority_class(X, y)\n"
   ]
  },
  {
   "cell_type": "markdown",
   "metadata": {},
   "source": [
    "Customize and Train VGG19 Model\n",
    "     Define the Model"
   ]
  },
  {
   "cell_type": "code",
   "execution_count": null,
   "metadata": {},
   "outputs": [],
   "source": [
    "def create_model():\n",
    "    base_model = VGG19(weights='imagenet', include_top=False, input_shape=(224, 224, 3))\n",
    "\n",
    "    x = base_model.output\n",
    "    x = GlobalAveragePooling2D()(x)\n",
    "    x = Dense(1024, activation='relu')(x)\n",
    "    x = Dense(512, activation='relu')(x)\n",
    "    predictions = Dense(1, activation='sigmoid')(x)\n",
    "\n",
    "    model = Model(inputs=base_model.input, outputs=predictions)\n",
    "\n",
    "    for layer in base_model.layers:\n",
    "        layer.trainable = False\n",
    "    \n",
    "    model.compile(optimizer='adam', loss='binary_crossentropy', metrics=['accuracy'])\n",
    "    return model\n",
    "\n",
    "model = create_model()\n",
    "model.summary()\n"
   ]
  },
  {
   "cell_type": "markdown",
   "metadata": {},
   "source": [
    "Data Generators"
   ]
  },
  {
   "cell_type": "code",
   "execution_count": null,
   "metadata": {},
   "outputs": [],
   "source": [
    "train_datagen = ImageDataGenerator(rescale=1./255, validation_split=0.2)\n",
    "train_generator = train_datagen.flow_from_directory(\n",
    "    'data_directory',\n",
    "    target_size=(224, 224),\n",
    "    batch_size=32,\n",
    "    class_mode='binary',\n",
    "    subset='training'\n",
    ")\n",
    "validation_generator = train_datagen.flow_from_directory(\n",
    "    'data_directory',\n",
    "    target_size=(224, 224),\n",
    "    batch_size=32,\n",
    "    class_mode='binary',\n",
    "    subset='validation'\n",
    ")\n"
   ]
  },
  {
   "cell_type": "markdown",
   "metadata": {},
   "source": [
    "Train the Model"
   ]
  },
  {
   "cell_type": "code",
   "execution_count": null,
   "metadata": {},
   "outputs": [],
   "source": [
    "# Define an EarlyStopping callback\n",
    "early_stopping = tf.keras.callbacks.EarlyStopping(\n",
    "    monitor='val_loss',          # Monitor the validation loss\n",
    "    patience=5,                  # Number of epochs with no improvement after which training will be stopped\n",
    "    min_delta=1e-7,              # Minimum change in the monitored quantity to be considered an improvement\n",
    "    restore_best_weights=True,   # Restore model weights from the epoch with the best value of monitored quantity\n",
    ")\n",
    "\n",
    "# Define a ReduceLROnPlateau callback\n",
    "plateau = tf.keras.callbacks.ReduceLROnPlateau(\n",
    "    monitor='val_loss',   # Monitor the validation loss\n",
    "    factor=0.2,           # Factor by which the learning rate will be reduced (new_lr = lr * factor)\n",
    "    patience=5,           # Number of epochs with no improvement after which learning rate will be reduced\n",
    "    min_delta=1e-7,       # Minimum change in the monitored quantity to trigger a learning rate reduction\n",
    "    cooldown=0,           # Number of epochs to wait before resuming normal operation after learning rate reduction\n",
    "    verbose=1             # Verbosity mode (1: update messages, 0: no messages)\n",
    ")\n",
    "\n",
    "checkpoint_cb = ModelCheckpoint(\"E:/Model_output/best_model_vgg.keras\", save_best_only=True, monitor=\"val_loss\", mode=\"min\")\n",
    "\n",
    "lr_schedule = tf.keras.callbacks.LearningRateScheduler(lambda epoch: 1e-3 * 10 ** (epoch / 20))"
   ]
  },
  {
   "cell_type": "code",
   "execution_count": null,
   "metadata": {},
   "outputs": [],
   "source": [
    "history = model.fit(\n",
    "    train_generator,\n",
    "    epochs=10,\n",
    "    validation_data=validation_generator,\n",
    "    class_weight={0: 1.0, 1: 2.5}  # Adjust weights if needed\n",
    "    callbacks=[early_stopping, plateau, checkpoint_cb]\n",
    ")\n",
    "\n",
    "# Evaluate the model\n",
    "loss, accuracy = model.evaluate(validation_generator)\n",
    "print(f'Validation Loss: {loss}')\n",
    "print(f'Validation Accuracy: {accuracy}')\n"
   ]
  },
  {
   "cell_type": "markdown",
   "metadata": {},
   "source": [
    " Make Predictions"
   ]
  },
  {
   "cell_type": "code",
   "execution_count": null,
   "metadata": {},
   "outputs": [],
   "source": [
    "def predict_image(image_path):\n",
    "    image = load_image(image_path)\n",
    "    image = np.expand_dims(image, axis=0)  # Add batch dimension\n",
    "    prediction = model.predict(image)\n",
    "    return 'Cancer' if prediction[0] > 0.5 else 'Non-cancer'\n",
    "\n",
    "# Example usage\n",
    "image_path = r'E:\\JOSIAH CANCER DATASET_DONT F_TOUCH IT\\MINI-DDSM-Complete-JPEG-8\\Benign\\0029\\C_0029_1.LEFT_CC.jpg'\n",
    "result = predict_image(image_path)\n",
    "print(f'Prediction for the image: {result}')\n"
   ]
  }
 ],
 "metadata": {
  "kernelspec": {
   "display_name": "Python 3",
   "language": "python",
   "name": "python3"
  },
  "language_info": {
   "codemirror_mode": {
    "name": "ipython",
    "version": 3
   },
   "file_extension": ".py",
   "mimetype": "text/x-python",
   "name": "python",
   "nbconvert_exporter": "python",
   "pygments_lexer": "ipython3",
   "version": "3.12.4"
  }
 },
 "nbformat": 4,
 "nbformat_minor": 2
}
